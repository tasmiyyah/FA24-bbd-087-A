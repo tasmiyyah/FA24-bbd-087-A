{
 "cells": [
  {
   "cell_type": "markdown",
   "id": "27a9a182-79e2-4a3e-9304-ec6add527750",
   "metadata": {},
   "source": [
    "# Function Practise Questions "
   ]
  },
  {
   "cell_type": "markdown",
   "id": "b33b215f-ec41-4720-8aad-eeff7f73c709",
   "metadata": {},
   "source": [
    "# Simple Function"
   ]
  },
  {
   "cell_type": "code",
   "execution_count": 15,
   "id": "3e312025-0e52-4234-bda1-82a868f3e05f",
   "metadata": {},
   "outputs": [
    {
     "name": "stdout",
     "output_type": "stream",
     "text": [
      "Hello, tasmiyyah! The current time is 22:22:50.\n"
     ]
    }
   ],
   "source": [
    "import datetime\n",
    "\n",
    "def greet_with_time(name):\n",
    "    current_time = datetime.datetime.now().strftime(\"%H:%M:%S\")\n",
    "    print(f\"Hello, {name}! The current time is {current_time}.\")\n",
    "greet_with_time(\"tasmiyyah\")\n"
   ]
  },
  {
   "cell_type": "markdown",
   "id": "273fea0a-f76c-4745-81d6-df2ddc8b6ac6",
   "metadata": {},
   "source": [
    "# Function with Multiple Parameters"
   ]
  },
  {
   "cell_type": "code",
   "execution_count": 17,
   "id": "b59c6a6d-5d13-49fc-af71-868bc4405379",
   "metadata": {},
   "outputs": [
    {
     "data": {
      "text/plain": [
       "6.0"
      ]
     },
     "execution_count": 17,
     "metadata": {},
     "output_type": "execute_result"
    }
   ],
   "source": [
    "def calculate_average(num1, num2, num3):\n",
    "    return (num1 + num2 + num3) / 3\n",
    "    print(f\"The average of the given three numbers is {average}\")\n",
    "calculate_average(7,6,5)\n"
   ]
  },
  {
   "cell_type": "markdown",
   "id": "396102df-bf6c-43b7-b38b-983aaf98e358",
   "metadata": {},
   "source": [
    "# Default Argument"
   ]
  },
  {
   "cell_type": "code",
   "execution_count": 26,
   "id": "4adf2c7d-dc6f-43e0-a698-c0b5bb6c4f67",
   "metadata": {},
   "outputs": [
    {
     "data": {
      "text/plain": [
       "405.0"
      ]
     },
     "execution_count": 26,
     "metadata": {},
     "output_type": "execute_result"
    }
   ],
   "source": [
    "def calculate_discount(price, discount_percentage=10):\n",
    "    discount_amount = (discount_percentage / 100) * price\n",
    "    final_price = price - discount_amount\n",
    "    return final_price\n",
    "    print(f\"The final price after {discount_amount} percent discount is {final_price}\")\n",
    "calculate_discount(450)"
   ]
  },
  {
   "cell_type": "markdown",
   "id": "2abab83c-2351-4b22-bd89-024aabae673d",
   "metadata": {},
   "source": [
    "# Keyword Arguments"
   ]
  },
  {
   "cell_type": "code",
   "execution_count": 39,
   "id": "886b744f-1584-4933-9385-ce245a287e88",
   "metadata": {},
   "outputs": [
    {
     "name": "stdout",
     "output_type": "stream",
     "text": [
      "Name: Tasmiyyah\n",
      "Age: 18\n",
      "City: Lahore\n"
     ]
    }
   ],
   "source": [
    "def print_info(name, age, city):\n",
    "    print(f\"Name: {name}\")\n",
    "    print(f\"Age: {age}\" )\n",
    "    print(f\"City: {city}\")\n",
    "print_info(\"Tasmiyyah\",18,\"Lahore\")"
   ]
  },
  {
   "cell_type": "markdown",
   "id": "3f8279f9-d046-4a3a-98ad-ac35630582e6",
   "metadata": {},
   "source": [
    "# Variable-Length Arguments"
   ]
  },
  {
   "cell_type": "code",
   "execution_count": 42,
   "id": "bb46a4d8-bf18-4019-abe9-19aab3aec467",
   "metadata": {},
   "outputs": [
    {
     "name": "stdout",
     "output_type": "stream",
     "text": [
      "2006\n"
     ]
    }
   ],
   "source": [
    "def find_max(*args):\n",
    "    return max(args)\n",
    "print(find_max(1,33,34,7,734,495,2006))"
   ]
  },
  {
   "cell_type": "markdown",
   "id": "ee91e1b7-7054-4f98-825a-51ce0f65389d",
   "metadata": {},
   "source": [
    "# Recursive Function"
   ]
  },
  {
   "cell_type": "code",
   "execution_count": 45,
   "id": "00286f53-b3c7-4da3-bb89-71e3d9e5ded4",
   "metadata": {},
   "outputs": [
    {
     "name": "stdout",
     "output_type": "stream",
     "text": [
      "120\n"
     ]
    }
   ],
   "source": [
    "def factorial(n):\n",
    "    return 1 if n == 0 else n * factorial(n - 1)\n",
    "print(factorial(5))  "
   ]
  },
  {
   "cell_type": "markdown",
   "id": "aaed2b77-efea-453f-b1a5-1aa0ac194b3a",
   "metadata": {},
   "source": [
    "# Function as an Argument"
   ]
  },
  {
   "cell_type": "code",
   "execution_count": 51,
   "id": "4c26aa64-3bdd-40d6-9e87-75347b4b49dd",
   "metadata": {},
   "outputs": [
    {
     "name": "stdout",
     "output_type": "stream",
     "text": [
      "[6, 7, 10, 11]\n"
     ]
    }
   ],
   "source": [
    "def apply_function(func, numbers):\n",
    "    result = []\n",
    "    for num in numbers:\n",
    "        result.append(func(num))\n",
    "    return result\n",
    "\n",
    "def add_one(x):\n",
    "    return x + 1\n",
    "\n",
    "numbers = [5,6,9,10]\n",
    "result = apply_function(add_one, numbers)\n",
    "print(result)  "
   ]
  },
  {
   "cell_type": "markdown",
   "id": "9c2b32b0-efcf-4476-a1dc-d2998951db03",
   "metadata": {},
   "source": [
    "# Lambda Functions"
   ]
  },
  {
   "cell_type": "code",
   "execution_count": 56,
   "id": "e85094f2-5020-4774-b957-e03e350a000a",
   "metadata": {},
   "outputs": [
    {
     "name": "stdout",
     "output_type": "stream",
     "text": [
      "6561\n"
     ]
    }
   ],
   "source": [
    "print((lambda x: x ** 4)(9))"
   ]
  },
  {
   "cell_type": "markdown",
   "id": "7f1ceb14-af34-4b8b-a610-c48b2427f7e8",
   "metadata": {},
   "source": [
    "# Higher-Order Functions"
   ]
  },
  {
   "cell_type": "code",
   "execution_count": 63,
   "id": "94b6deb9-8435-4acf-bc55-3ea7ed6948f2",
   "metadata": {},
   "outputs": [
    {
     "name": "stdout",
     "output_type": "stream",
     "text": [
      "[16, 25, 36, 49, 64, 81]\n"
     ]
    }
   ],
   "source": [
    "def apply_operation(func, numbers):\n",
    "    return [func(num) for num in numbers]\n",
    "numbers = [4,5,6,7,8,9]\n",
    "result = apply_operation(lambda x: x ** 2, numbers)  \n",
    "print(result)"
   ]
  },
  {
   "cell_type": "code",
   "execution_count": 65,
   "id": "32cefb5f-12a1-4df3-ab22-ac153889372e",
   "metadata": {},
   "outputs": [
    {
     "name": "stdout",
     "output_type": "stream",
     "text": [
      "Execution time: 2.001558 seconds\n",
      "Done\n"
     ]
    }
   ],
   "source": [
    "import time\n",
    "\n",
    "def measure_time(func):\n",
    "    def wrapper(*args, **kwargs):\n",
    "        start_time = time.time()  \n",
    "        result = func(*args, **kwargs)  \n",
    "        end_time = time.time()  \n",
    "        execution_time = end_time - start_time\n",
    "        print(f\"Execution time: {execution_time:.6f} seconds\")\n",
    "        return result\n",
    "    return wrapper\n",
    "@measure_time\n",
    "def slow_function():\n",
    "    time.sleep(2)  \n",
    "    return \"Done\"\n",
    "\n",
    "print(slow_function())  \n"
   ]
  },
  {
   "cell_type": "code",
   "execution_count": null,
   "id": "2a1de759-df49-46f6-90c6-5f2fa79f6059",
   "metadata": {},
   "outputs": [],
   "source": []
  }
 ],
 "metadata": {
  "kernelspec": {
   "display_name": "Python 3 (ipykernel)",
   "language": "python",
   "name": "python3"
  },
  "language_info": {
   "codemirror_mode": {
    "name": "ipython",
    "version": 3
   },
   "file_extension": ".py",
   "mimetype": "text/x-python",
   "name": "python",
   "nbconvert_exporter": "python",
   "pygments_lexer": "ipython3",
   "version": "3.12.7"
  }
 },
 "nbformat": 4,
 "nbformat_minor": 5
}
